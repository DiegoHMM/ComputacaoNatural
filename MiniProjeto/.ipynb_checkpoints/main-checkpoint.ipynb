{
 "cells": [
  {
   "cell_type": "code",
   "execution_count": 1,
   "metadata": {
    "ExecuteTime": {
     "end_time": "2023-06-15T17:59:02.263494100Z",
     "start_time": "2023-06-15T17:58:57.002936200Z"
    }
   },
   "outputs": [],
   "source": [
    "import tensorflow as tf      # Deep Learning library\n",
    "import numpy as np           # Handle matrices\n",
    "import matplotlib.pyplot as plt # Display graphs\n",
    "import cv2\n",
    "import random\n",
    "from collections import deque# Ordered collection with ends"
   ]
  },
  {
   "cell_type": "code",
   "execution_count": 2,
   "metadata": {},
   "outputs": [],
   "source": [
    "import gym\n",
    "#create environment\n",
    "env = gym.make(\"ALE/Pong-v5\")"
   ]
  },
  {
   "cell_type": "code",
   "execution_count": 3,
   "metadata": {},
   "outputs": [
    {
     "name": "stdout",
     "output_type": "stream",
     "text": [
      "The size of our frame is:  (210, 160, 3)\n",
      "The action size is :  6\n"
     ]
    }
   ],
   "source": [
    "#Show the pool of actions of the game\n",
    "print(\"The size of our frame is: \", env.observation_space.shape)\n",
    "print(\"The action size is : \", env.action_space.n)\n",
    "\n",
    "# possible_actions = [[1, 0, 0, 0, 0, 0, 0, 0], [0, 1, 0, 0, 0, 0, 0, 0, 0]...]\n",
    "possible_actions = np.array(np.identity(env.action_space.n,dtype=int).tolist())"
   ]
  },
  {
   "cell_type": "code",
   "execution_count": 4,
   "metadata": {},
   "outputs": [
    {
     "data": {
      "text/plain": [
       "Text(0.5, 1.0, 'Example extracted screen')"
      ]
     },
     "execution_count": 4,
     "metadata": {},
     "output_type": "execute_result"
    },
    {
     "data": {
      "image/png": "[encoded data removed]",
      "text/plain": [
       "<Figure size 640x480 with 1 Axes>"
      ]
     },
     "metadata": {},
     "output_type": "display_data"
    }
   ],
   "source": [
    "#Show scene of the game\n",
    "env.reset()\n",
    "plt.figure()\n",
    "plt.imshow(env.render(mode='rgb_array'))\n",
    "plt.title('Example extracted screen')\n"
   ]
  },
  {
   "cell_type": "code",
   "execution_count": 5,
   "metadata": {},
   "outputs": [],
   "source": [
    "#Define tensor treatment to reduce the dimensions of the image to 84,84 using cv2\n",
    "def preprocess_frame(frame):\n",
    "    # Greyscale frame\n",
    "    gray = cv2.cvtColor(frame, cv2.COLOR_RGB2GRAY)\n",
    "    # Crop the screen\n",
    "    # [Up: Down, Left: right]\n",
    "    cropped_frame = gray[25:-12,4:-12]\n",
    "\n",
    "    # Normalize Pixel Values\n",
    "    normalized_frame = cropped_frame/255.0\n",
    "    # Resize\n",
    "    preprocessed_frame = cv2.resize(normalized_frame, (84, 84))\n",
    "    return preprocessed_frame # 84x84x1 frame\n"
   ]
  },
  {
   "cell_type": "code",
   "execution_count": 6,
   "metadata": {},
   "outputs": [
    {
     "data": {
      "text/plain": [
       "<matplotlib.image.AxesImage at 0x22657039c40>"
      ]
     },
     "execution_count": 6,
     "metadata": {},
     "output_type": "execute_result"
    },
    {
     "data": {
      "image/png": "[encoded data removed]",
      "text/plain": [
       "<Figure size 640x480 with 1 Axes>"
      ]
     },
     "metadata": {},
     "output_type": "display_data"
    }
   ],
   "source": [
    "img = preprocess_frame(env.render(mode='rgb_array'))\n",
    "#show img\n",
    "plt.imshow(img, cmap='gray')"
   ]
  },
  {
   "cell_type": "code",
   "execution_count": 7,
   "metadata": {},
   "outputs": [
    {
     "name": "stderr",
     "output_type": "stream",
     "text": [
      "C:\\Users\\diego\\AppData\\Local\\Temp\\ipykernel_14500\\522597121.py:3: DeprecationWarning: `np.int` is a deprecated alias for the builtin `int`. To silence this warning, use `int` by itself. Doing this will not modify any behavior and is safe. When replacing `np.int`, you may wish to use e.g. `np.int64` or `np.int32` to specify the precision. If you wish to review your current use, check the release note link for additional information.\n",
      "Deprecated in NumPy 1.20; for more details and guidance: https://numpy.org/devdocs/release/1.20.0-notes.html#deprecations\n",
      "  stacked_frames  =  deque([np.zeros((84,84), dtype=np.int) for i in range(stack_size)], maxlen=4)\n"
     ]
    }
   ],
   "source": [
    "#Define hiperparameters of the network\n",
    "stack_size = 4\n",
    "stacked_frames  =  deque([np.zeros((84,84), dtype=np.int) for i in range(stack_size)], maxlen=4)\n",
    "\n",
    "state_size = [84, 84, 1]      # Our input is a stack of 4 frames hence 84x84x1 (Width, height, channels)\n",
    "action_size = env.action_space.n\n",
    "learning_rate = 0.00025      # Alpha (aka learning rate)\n",
    "\n",
    "### TRAINING HYPERPARAMETERS\n",
    "total_episodes = 50            # Total episodes for training\n",
    "max_steps = 50000              # Max possible steps in an episode\n",
    "batch_size = 64                # Batch size\n",
    "\n",
    "#Memory\n",
    "pretrain_length = batch_size   # Number of experiences stored in the Memory when initialized for the first time\n",
    "memory_size = 1000000          # Number of experiences the Memory can keep\n"
   ]
  },
  {
   "cell_type": "code",
   "execution_count": 8,
   "metadata": {},
   "outputs": [],
   "source": [
    "import tensorflow as tf\n",
    "from tensorflow.keras import layers, models\n",
    "\n",
    "def create_dqn_model(input_shape, action_space):\n",
    "    model = models.Sequential()\n",
    "\n",
    "    # Primeira camada de convolução\n",
    "    model.add(layers.Conv2D(32, (8, 8), strides=(4, 4), padding=\"valid\", activation=\"relu\", input_shape=input_shape))\n",
    "\n",
    "    # Segunda camada de convolução\n",
    "    model.add(layers.Conv2D(64, (4, 4), strides=(2, 2), padding=\"valid\", activation=\"relu\"))\n",
    "\n",
    "    # Terceira camada de convolução\n",
    "    model.add(layers.Conv2D(64, (3, 3), strides=(1, 1), padding=\"valid\", activation=\"relu\"))\n",
    "\n",
    "    # Achatar a saída da última camada de convolução para que possa ser alimentada para a camada densa\n",
    "    model.add(layers.Flatten())\n",
    "\n",
    "    # Camada densa\n",
    "    model.add(layers.Dense(action_space))\n",
    "\n",
    "    return model"
   ]
  },
  {
   "cell_type": "code",
   "execution_count": 9,
   "metadata": {},
   "outputs": [],
   "source": [
    "model = create_dqn_model(input_shape=state_size, action_space=action_size)"
   ]
  },
  {
   "cell_type": "code",
   "execution_count": 10,
   "metadata": {},
   "outputs": [
    {
     "name": "stdout",
     "output_type": "stream",
     "text": [
      "Model: \"sequential\"\n",
      "_________________________________________________________________\n",
      " Layer (type)                Output Shape              Param #   \n",
      "=================================================================\n",
      " conv2d (Conv2D)             (None, 20, 20, 32)        2080      \n",
      "                                                                 \n",
      " conv2d_1 (Conv2D)           (None, 9, 9, 64)          32832     \n",
      "                                                                 \n",
      " conv2d_2 (Conv2D)           (None, 7, 7, 64)          36928     \n",
      "                                                                 \n",
      " flatten (Flatten)           (None, 3136)              0         \n",
      "                                                                 \n",
      " dense (Dense)               (None, 6)                 18822     \n",
      "                                                                 \n",
      "=================================================================\n",
      "Total params: 90,662\n",
      "Trainable params: 90,662\n",
      "Non-trainable params: 0\n",
      "_________________________________________________________________\n"
     ]
    }
   ],
   "source": [
    "model.summary()"
   ]
  },
  {
   "cell_type": "code",
   "execution_count": 11,
   "metadata": {},
   "outputs": [],
   "source": [
    "#implement memory\n",
    "class Memory():\n",
    "    def __init__(self, max_size):\n",
    "        self.buffer = deque(maxlen=max_size)\n",
    "\n",
    "    def add(self, experience):\n",
    "        self.buffer.append(experience)\n",
    "\n",
    "    def sample(self, batch_size):\n",
    "        buffer_size = len(self.buffer)\n",
    "        index = np.random.choice(np.arange(buffer_size),\n",
    "                                size=batch_size,\n",
    "                                replace=False)\n",
    "\n",
    "        return [self.buffer[i] for i in index]"
   ]
  },
  {
   "cell_type": "code",
   "execution_count": 12,
   "metadata": {},
   "outputs": [],
   "source": [
    "def stack_frames(stacked_frames, state, flag_episode, stack_size):\n",
    "    tensor = preprocess_frame(state)\n",
    "\n",
    "    if flag_episode:\n",
    "        for i in range(stack_size):\n",
    "            stacked_frames.append(tensor)\n",
    "            stacked_state = np.stack(stacked_frames, axis=2)\n",
    "    else:\n",
    "        stacked_frames.append(tensor)\n",
    "        stacked_state = np.stack(stacked_frames, axis=2)\n",
    "\n",
    "    return stacked_state, stacked_frames"
   ]
  },
  {
   "cell_type": "code",
   "execution_count": 13,
   "metadata": {},
   "outputs": [],
   "source": [
    "#choose action function\n",
    "def choose_action(state, model, epsilon=0.1):\n",
    "    if np.random.rand() <= epsilon:\n",
    "        return random.randint(1,len(possible_actions))-1\n",
    "    else:\n",
    "        q_values = model.predict(state)\n",
    "        return np.argmax(q_values[0])"
   ]
  },
  {
   "cell_type": "code",
   "execution_count": 14,
   "metadata": {},
   "outputs": [],
   "source": [
    "#implement perform_action\n",
    "def perform_action(state, action):\n",
    "    next_state, reward, done, _ = env.step(action)\n",
    "    env.render(mode='rgb_array')\n",
    "    return next_state, reward, done"
   ]
  },
  {
   "cell_type": "code",
   "execution_count": 15,
   "metadata": {
    "ExecuteTime": {
     "end_time": "2023-06-15T17:54:04.038819300Z",
     "start_time": "2023-06-15T17:53:59.309137300Z"
    }
   },
   "outputs": [],
   "source": [
    "def train_dqn(episodes, model, memory, batch_size, discount_factor):\n",
    "    for episode in range(episodes):\n",
    "        # Inicialize o estado (neste caso, uma tela em branco)\n",
    "\n",
    "        state = env.reset() # reset environment to a new, random state\n",
    "        state, stacked_frames = stack_frames(stacked_frames, state, True, stack_size)\n",
    "\n",
    "        done = False\n",
    "        while not done:\n",
    "            # A ação é escolhida a partir da rede usando o método epsilon-greedy\n",
    "            action = choose_action(state, model)\n",
    "\n",
    "            # Execute a ação no ambiente para obter o próximo estado e a recompensa\n",
    "            next_state, reward, done = perform_action(state, action)\n",
    "\n",
    "            # Preprocess next_state before storing it in memory\n",
    "            next_state, stacked_frames = stack_frames(stacked_frames, next_state, False, stack_size)\n",
    "\n",
    "            # Armazene a transição na memória\n",
    "            memory.add((state, action, reward, next_state, done))\n",
    "\n",
    "            # Mova para o próximo estado\n",
    "            state = next_state\n",
    "\n",
    "            # Aprenda com um lote de experiências na memória\n",
    "            if len(memory.buffer) > batch_size:\n",
    "                experiences = memory.sample(batch_size)\n",
    "                states, actions, rewards, next_states, dones = zip(*experiences)\n",
    "                states = np.array(states)\n",
    "                actions = np.array(actions)\n",
    "                rewards = np.array(rewards)\n",
    "                next_states = np.array(next_states)\n",
    "                dones = np.array(dones)\n",
    "\n",
    "                q_values = model.predict(states)\n",
    "                next_q_values = model.predict(next_states)\n",
    "\n",
    "                # Q-Learning update\n",
    "                max_next_q_values = np.amax(next_q_values, axis=1)\n",
    "                target_q_values = rewards + (1 - dones) * discount_factor * max_next_q_values\n",
    "\n",
    "                # Make sure we don't change the Q-values of the other actions\n",
    "                for i, action in enumerate(actions):\n",
    "                    q_values[i][action] = target_q_values[i]\n",
    "\n",
    "                # Train the model\n",
    "                model.train_on_batch(states, q_values)"
   ]
  },
  {
   "cell_type": "code",
   "execution_count": 17,
   "metadata": {
    "ExecuteTime": {
     "end_time": "2023-06-15T17:56:13.598876700Z",
     "start_time": "2023-06-15T17:56:13.588369800Z"
    }
   },
   "outputs": [],
   "source": [
    "memory = Memory(max_size=100000)\n",
    "for i in range(pretrain_length):\n",
    "    if i == 0:\n",
    "        state = env.reset()\n",
    "        state, stacked_frames = stack_frames(stacked_frames, state, True, stack_size)\n",
    "\n",
    "    # Execute a ação escolhida\n",
    "    action = random.randint(1,len(possible_actions))-1\n",
    "\n",
    "    next_state, reward, done, _ = env.step(action)\n",
    "\n",
    "    env.render(mode='rgb_array')\n",
    "\n",
    "    #Build new stack\n",
    "    next_state, stacked_frames = stack_frames(stacked_frames, next_state, False, stack_size)\n",
    "\n",
    "    if done:\n",
    "        #exit the episode\n",
    "        next_state = np.zeros(state.shape)\n",
    "        # Add experience to memory\n",
    "        memory.add((state, action, reward, next_state, done))\n",
    "        # Start a new episode\n",
    "        state = env.reset()\n",
    "        # Stack the frames\n",
    "        state, stacked_frames = stack_frames(stacked_frames, state, True)\n",
    "    else:\n",
    "        # Add experience to memory\n",
    "        memory.add((state, action, reward, next_state, done))\n",
    "\n",
    "        # Our new state is now the next_state\n",
    "        state = next_state\n"
   ]
  },
  {
   "cell_type": "code",
   "execution_count": 18,
   "metadata": {
    "ExecuteTime": {
     "end_time": "2023-06-15T17:56:18.463728500Z",
     "start_time": "2023-06-15T17:56:18.438189500Z"
    }
   },
   "outputs": [
    {
     "ename": "UnboundLocalError",
     "evalue": "local variable 'stacked_frames' referenced before assignment",
     "output_type": "error",
     "traceback": [
      "\u001b[1;31m---------------------------------------------------------------------------\u001b[0m",
      "\u001b[1;31mUnboundLocalError\u001b[0m                         Traceback (most recent call last)",
      "Cell \u001b[1;32mIn[18], line 1\u001b[0m\n\u001b[1;32m----> 1\u001b[0m \u001b[43mtrain_dqn\u001b[49m\u001b[43m(\u001b[49m\u001b[38;5;241;43m1000\u001b[39;49m\u001b[43m,\u001b[49m\u001b[43m \u001b[49m\u001b[43mmodel\u001b[49m\u001b[43m,\u001b[49m\u001b[43m \u001b[49m\u001b[43mmemory\u001b[49m\u001b[43m,\u001b[49m\u001b[43m \u001b[49m\u001b[38;5;241;43m32\u001b[39;49m\u001b[43m,\u001b[49m\u001b[43m \u001b[49m\u001b[38;5;241;43m0.99\u001b[39;49m\u001b[43m)\u001b[49m\n",
      "Cell \u001b[1;32mIn[15], line 6\u001b[0m, in \u001b[0;36mtrain_dqn\u001b[1;34m(episodes, model, memory, batch_size, discount_factor)\u001b[0m\n\u001b[0;32m      2\u001b[0m \u001b[38;5;28;01mfor\u001b[39;00m episode \u001b[38;5;129;01min\u001b[39;00m \u001b[38;5;28mrange\u001b[39m(episodes):\n\u001b[0;32m      3\u001b[0m     \u001b[38;5;66;03m# Inicialize o estado (neste caso, uma tela em branco)\u001b[39;00m\n\u001b[0;32m      5\u001b[0m     state \u001b[38;5;241m=\u001b[39m env\u001b[38;5;241m.\u001b[39mreset() \u001b[38;5;66;03m# reset environment to a new, random state\u001b[39;00m\n\u001b[1;32m----> 6\u001b[0m     state, stacked_frames \u001b[38;5;241m=\u001b[39m stack_frames(\u001b[43mstacked_frames\u001b[49m, state, \u001b[38;5;28;01mTrue\u001b[39;00m, stack_size)\n\u001b[0;32m      8\u001b[0m     done \u001b[38;5;241m=\u001b[39m \u001b[38;5;28;01mFalse\u001b[39;00m\n\u001b[0;32m      9\u001b[0m     \u001b[38;5;28;01mwhile\u001b[39;00m \u001b[38;5;129;01mnot\u001b[39;00m done:\n\u001b[0;32m     10\u001b[0m         \u001b[38;5;66;03m# A ação é escolhida a partir da rede usando o método epsilon-greedy\u001b[39;00m\n",
      "\u001b[1;31mUnboundLocalError\u001b[0m: local variable 'stacked_frames' referenced before assignment"
     ]
    }
   ],
   "source": [
    "train_dqn(1000, model, memory, 32, 0.99)"
   ]
  },
  {
   "cell_type": "code",
   "execution_count": null,
   "metadata": {},
   "outputs": [],
   "source": []
  }
 ],
 "metadata": {
  "kernelspec": {
   "display_name": "Python 3 (ipykernel)",
   "language": "python",
   "name": "python3"
  },
  "language_info": {
   "codemirror_mode": {
    "name": "ipython",
    "version": 3
   },
   "file_extension": ".py",
   "mimetype": "text/x-python",
   "name": "python",
   "nbconvert_exporter": "python",
   "pygments_lexer": "ipython3",
   "version": "3.8.0"
  }
 },
 "nbformat": 4,
 "nbformat_minor": 1
}
