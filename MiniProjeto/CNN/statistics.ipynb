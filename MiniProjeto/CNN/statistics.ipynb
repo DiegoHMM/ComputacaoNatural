{
 "cells": [
  {
   "cell_type": "code",
   "execution_count": 1,
   "metadata": {
    "collapsed": true,
    "ExecuteTime": {
     "end_time": "2023-06-27T22:57:36.475586300Z",
     "start_time": "2023-06-27T22:57:30.591775700Z"
    }
   },
   "outputs": [
    {
     "name": "stdout",
     "output_type": "stream",
     "text": [
      "pygame 2.4.0 (SDL 2.26.4, Python 3.8.0)\n",
      "Hello from the pygame community. https://www.pygame.org/contribute.html\n"
     ]
    }
   ],
   "source": [
    "import pandas as pd\n",
    "from indiv import *"
   ]
  },
  {
   "cell_type": "code",
   "execution_count": 2,
   "outputs": [],
   "source": [
    "df_statistics = pd.read_csv('Statistics/statistics.csv')"
   ],
   "metadata": {
    "collapsed": false,
    "ExecuteTime": {
     "end_time": "2023-06-27T22:57:36.486117900Z",
     "start_time": "2023-06-27T22:57:36.474078800Z"
    }
   }
  },
  {
   "cell_type": "code",
   "execution_count": 3,
   "outputs": [
    {
     "data": {
      "text/plain": "   gen  best_fitness  mean_fitness  std_fitness  total_cross  total_mut  \\\n0    0          34.4          3.47     106.3001            0          0   \n1    1          40.3         17.64     346.4644            3          4   \n2    2          32.0         12.88     243.7236            5          7   \n3    3          36.5         32.86     119.2464            8          8   \n4    4          32.4         22.70     219.5440           11         13   \n5    5          31.9         15.96     254.0844           14         17   \n6    6          43.8         30.67     402.2601           16         19   \n7    7          30.5         15.28     231.6496           17         22   \n8    8          35.6         21.36     304.1664           20         26   \n9    9          41.3         24.79     408.8709           23         27   \n\n   mean_size  size_best_individual  \n0        NaN                   NaN  \n1        NaN                   NaN  \n2        NaN                   NaN  \n3        NaN                   NaN  \n4        NaN                   NaN  \n5        NaN                   NaN  \n6        NaN                   NaN  \n7        NaN                   NaN  \n8        NaN                   NaN  \n9        NaN                   NaN  ",
      "text/html": "<div>\n<style scoped>\n    .dataframe tbody tr th:only-of-type {\n        vertical-align: middle;\n    }\n\n    .dataframe tbody tr th {\n        vertical-align: top;\n    }\n\n    .dataframe thead th {\n        text-align: right;\n    }\n</style>\n<table border=\"1\" class=\"dataframe\">\n  <thead>\n    <tr style=\"text-align: right;\">\n      <th></th>\n      <th>gen</th>\n      <th>best_fitness</th>\n      <th>mean_fitness</th>\n      <th>std_fitness</th>\n      <th>total_cross</th>\n      <th>total_mut</th>\n      <th>mean_size</th>\n      <th>size_best_individual</th>\n    </tr>\n  </thead>\n  <tbody>\n    <tr>\n      <th>0</th>\n      <td>0</td>\n      <td>34.4</td>\n      <td>3.47</td>\n      <td>106.3001</td>\n      <td>0</td>\n      <td>0</td>\n      <td>NaN</td>\n      <td>NaN</td>\n    </tr>\n    <tr>\n      <th>1</th>\n      <td>1</td>\n      <td>40.3</td>\n      <td>17.64</td>\n      <td>346.4644</td>\n      <td>3</td>\n      <td>4</td>\n      <td>NaN</td>\n      <td>NaN</td>\n    </tr>\n    <tr>\n      <th>2</th>\n      <td>2</td>\n      <td>32.0</td>\n      <td>12.88</td>\n      <td>243.7236</td>\n      <td>5</td>\n      <td>7</td>\n      <td>NaN</td>\n      <td>NaN</td>\n    </tr>\n    <tr>\n      <th>3</th>\n      <td>3</td>\n      <td>36.5</td>\n      <td>32.86</td>\n      <td>119.2464</td>\n      <td>8</td>\n      <td>8</td>\n      <td>NaN</td>\n      <td>NaN</td>\n    </tr>\n    <tr>\n      <th>4</th>\n      <td>4</td>\n      <td>32.4</td>\n      <td>22.70</td>\n      <td>219.5440</td>\n      <td>11</td>\n      <td>13</td>\n      <td>NaN</td>\n      <td>NaN</td>\n    </tr>\n    <tr>\n      <th>5</th>\n      <td>5</td>\n      <td>31.9</td>\n      <td>15.96</td>\n      <td>254.0844</td>\n      <td>14</td>\n      <td>17</td>\n      <td>NaN</td>\n      <td>NaN</td>\n    </tr>\n    <tr>\n      <th>6</th>\n      <td>6</td>\n      <td>43.8</td>\n      <td>30.67</td>\n      <td>402.2601</td>\n      <td>16</td>\n      <td>19</td>\n      <td>NaN</td>\n      <td>NaN</td>\n    </tr>\n    <tr>\n      <th>7</th>\n      <td>7</td>\n      <td>30.5</td>\n      <td>15.28</td>\n      <td>231.6496</td>\n      <td>17</td>\n      <td>22</td>\n      <td>NaN</td>\n      <td>NaN</td>\n    </tr>\n    <tr>\n      <th>8</th>\n      <td>8</td>\n      <td>35.6</td>\n      <td>21.36</td>\n      <td>304.1664</td>\n      <td>20</td>\n      <td>26</td>\n      <td>NaN</td>\n      <td>NaN</td>\n    </tr>\n    <tr>\n      <th>9</th>\n      <td>9</td>\n      <td>41.3</td>\n      <td>24.79</td>\n      <td>408.8709</td>\n      <td>23</td>\n      <td>27</td>\n      <td>NaN</td>\n      <td>NaN</td>\n    </tr>\n  </tbody>\n</table>\n</div>"
     },
     "execution_count": 3,
     "metadata": {},
     "output_type": "execute_result"
    }
   ],
   "source": [
    "df_statistics"
   ],
   "metadata": {
    "collapsed": false,
    "ExecuteTime": {
     "end_time": "2023-06-27T22:57:36.507960100Z",
     "start_time": "2023-06-27T22:57:36.485108Z"
    }
   }
  },
  {
   "cell_type": "code",
   "execution_count": 4,
   "outputs": [
    {
     "name": "stdout",
     "output_type": "stream",
     "text": [
      "['Linear(11, 128) ReLU', 'Linear(128, 64) Tanh', 'Linear(64, 3) Sigmoid']\n"
     ]
    }
   ],
   "source": [
    "#read indiv\n",
    "indiv = Individual(11, 0, 3)\n",
    "indiv.load_indv('best_indv_gen_9')"
   ],
   "metadata": {
    "collapsed": false,
    "ExecuteTime": {
     "end_time": "2023-06-27T22:57:58.394241500Z",
     "start_time": "2023-06-27T22:57:58.368087500Z"
    }
   }
  },
  {
   "cell_type": "code",
   "execution_count": null,
   "outputs": [],
   "source": [],
   "metadata": {
    "collapsed": false
   }
  }
 ],
 "metadata": {
  "kernelspec": {
   "display_name": "Python 3",
   "language": "python",
   "name": "python3"
  },
  "language_info": {
   "codemirror_mode": {
    "name": "ipython",
    "version": 2
   },
   "file_extension": ".py",
   "mimetype": "text/x-python",
   "name": "python",
   "nbconvert_exporter": "python",
   "pygments_lexer": "ipython2",
   "version": "2.7.6"
  }
 },
 "nbformat": 4,
 "nbformat_minor": 0
}
