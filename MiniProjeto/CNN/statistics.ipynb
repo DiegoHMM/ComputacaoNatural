{
 "cells": [
  {
   "cell_type": "code",
   "execution_count": 13,
   "metadata": {
    "collapsed": true,
    "ExecuteTime": {
     "end_time": "2023-06-26T21:51:17.544998900Z",
     "start_time": "2023-06-26T21:51:17.538999400Z"
    }
   },
   "outputs": [],
   "source": [
    "import pandas as pd\n",
    "from indiv import *"
   ]
  },
  {
   "cell_type": "code",
   "execution_count": 14,
   "outputs": [],
   "source": [
    "df_statistics = pd.read_csv('Statistics/statistics.csv')"
   ],
   "metadata": {
    "collapsed": false,
    "ExecuteTime": {
     "end_time": "2023-06-26T21:51:17.682811600Z",
     "start_time": "2023-06-26T21:51:17.674467500Z"
    }
   }
  },
  {
   "cell_type": "code",
   "execution_count": 15,
   "outputs": [
    {
     "data": {
      "text/plain": "   gen  best_fitness  mean_fitness  std_fitness  total_cross  total_mut\n0    0           0.0           0.0          0.0            0          0",
      "text/html": "<div>\n<style scoped>\n    .dataframe tbody tr th:only-of-type {\n        vertical-align: middle;\n    }\n\n    .dataframe tbody tr th {\n        vertical-align: top;\n    }\n\n    .dataframe thead th {\n        text-align: right;\n    }\n</style>\n<table border=\"1\" class=\"dataframe\">\n  <thead>\n    <tr style=\"text-align: right;\">\n      <th></th>\n      <th>gen</th>\n      <th>best_fitness</th>\n      <th>mean_fitness</th>\n      <th>std_fitness</th>\n      <th>total_cross</th>\n      <th>total_mut</th>\n    </tr>\n  </thead>\n  <tbody>\n    <tr>\n      <th>0</th>\n      <td>0</td>\n      <td>0.0</td>\n      <td>0.0</td>\n      <td>0.0</td>\n      <td>0</td>\n      <td>0</td>\n    </tr>\n  </tbody>\n</table>\n</div>"
     },
     "execution_count": 15,
     "metadata": {},
     "output_type": "execute_result"
    }
   ],
   "source": [
    "df_statistics"
   ],
   "metadata": {
    "collapsed": false,
    "ExecuteTime": {
     "end_time": "2023-06-26T21:51:18.037705700Z",
     "start_time": "2023-06-26T21:51:18.026466300Z"
    }
   }
  },
  {
   "cell_type": "code",
   "execution_count": 18,
   "outputs": [
    {
     "name": "stdout",
     "output_type": "stream",
     "text": [
      "['Linear(11, 256) Sigmoid', 'Linear(256, 256) ReLU', 'Linear(256, 3) ReLU']\n",
      "DynamicLinear_QNet(\n",
      "  (layers): ModuleList(\n",
      "    (0): Linear(in_features=11, out_features=256, bias=True)\n",
      "    (1): Linear(in_features=256, out_features=256, bias=True)\n",
      "    (2): ReLU()\n",
      "    (3): Linear(in_features=256, out_features=3, bias=True)\n",
      "  )\n",
      ")\n"
     ]
    }
   ],
   "source": [
    "#read indiv\n",
    "indiv = Individual(11, 0, 3)\n",
    "indiv.load_indv('best_indv_gen_9')"
   ],
   "metadata": {
    "collapsed": false,
    "ExecuteTime": {
     "end_time": "2023-06-26T21:51:38.953085900Z",
     "start_time": "2023-06-26T21:51:38.915975800Z"
    }
   }
  }
 ],
 "metadata": {
  "kernelspec": {
   "display_name": "Python 3",
   "language": "python",
   "name": "python3"
  },
  "language_info": {
   "codemirror_mode": {
    "name": "ipython",
    "version": 2
   },
   "file_extension": ".py",
   "mimetype": "text/x-python",
   "name": "python",
   "nbconvert_exporter": "python",
   "pygments_lexer": "ipython2",
   "version": "2.7.6"
  }
 },
 "nbformat": 4,
 "nbformat_minor": 0
}
