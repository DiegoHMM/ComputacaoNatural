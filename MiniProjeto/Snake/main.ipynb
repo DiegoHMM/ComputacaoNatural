{
 "cells": [
  {
   "cell_type": "code",
   "execution_count": 14,
   "metadata": {
    "ExecuteTime": {
     "end_time": "2023-06-15T23:22:08.771774Z",
     "start_time": "2023-06-15T23:22:08.677165400Z"
    }
   },
   "outputs": [],
   "source": [
    "import gym\n",
    "#create environment\n",
    "env = gym.make(\"ALE/Pong-v5\")"
   ]
  },
  {
   "cell_type": "code",
   "execution_count": null,
   "outputs": [],
   "source": [
    "import the_agent\n",
    "import environment\n",
    "import matplotlib.pyplot as plt\n",
    "import time\n",
    "from collections import deque\n",
    "import numpy as np\n",
    "\n",
    "name = 'PongDeterministic-v4'\n",
    "\n",
    "agent = the_agent.Agent(possible_actions=[0,2,3],starting_mem_len=50000,max_mem_len=750000,starting_epsilon = 1, learn_rate = .00025)\n",
    "env = environment.make_env(name,agent)\n",
    "\n",
    "last_100_avg = [-21]\n",
    "scores = deque(maxlen = 100)\n",
    "max_score = -21\n",
    "\n",
    "\"\"\" If testing:\n",
    "agent.model.load_weights('recent_weights.hdf5')\n",
    "agent.model_target.load_weights('recent_weights.hdf5')\n",
    "agent.epsilon = 0.0\n",
    "\"\"\"\n",
    "\n",
    "env.reset()\n",
    "\n",
    "for i in range(1000000):\n",
    "    timesteps = agent.total_timesteps\n",
    "    timee = time.time()\n",
    "    score = environment.play_episode(name, env, agent, debug = False) #set debug to true for rendering\n",
    "    scores.append(score)\n",
    "    if score > max_score:\n",
    "        max_score = score\n",
    "\n",
    "    print('\\nEpisode: ' + str(i))\n",
    "    print('Steps: ' + str(agent.total_timesteps - timesteps))\n",
    "    print('Duration: ' + str(time.time() - timee))\n",
    "    print('Score: ' + str(score))\n",
    "    print('Max Score: ' + str(max_score))\n",
    "    print('Epsilon: ' + str(agent.epsilon))\n",
    "\n",
    "    if i%100==0 and i!=0:\n",
    "        last_100_avg.append(sum(scores)/len(scores))\n",
    "        plt.plot(np.arange(0,i+1,100),last_100_avg)\n",
    "        plt.show()"
   ],
   "metadata": {
    "collapsed": false,
    "is_executing": true,
    "ExecuteTime": {
     "start_time": "2023-06-15T23:22:09.494272400Z"
    }
   }
  },
  {
   "cell_type": "code",
   "execution_count": null,
   "outputs": [],
   "source": [],
   "metadata": {
    "collapsed": false
   }
  }
 ],
 "metadata": {
  "kernelspec": {
   "display_name": "Python 3 (ipykernel)",
   "language": "python",
   "name": "python3"
  },
  "language_info": {
   "codemirror_mode": {
    "name": "ipython",
    "version": 3
   },
   "file_extension": ".py",
   "mimetype": "text/x-python",
   "name": "python",
   "nbconvert_exporter": "python",
   "pygments_lexer": "ipython3",
   "version": "3.8.0"
  }
 },
 "nbformat": 4,
 "nbformat_minor": 1
}
